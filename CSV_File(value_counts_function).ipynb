{
  "nbformat": 4,
  "nbformat_minor": 0,
  "metadata": {
    "colab": {
      "provenance": [],
      "include_colab_link": true
    },
    "kernelspec": {
      "name": "python3",
      "display_name": "Python 3"
    },
    "language_info": {
      "name": "python"
    }
  },
  "cells": [
    {
      "cell_type": "markdown",
      "metadata": {
        "id": "view-in-github",
        "colab_type": "text"
      },
      "source": [
        "<a href=\"https://colab.research.google.com/github/Palakdubeyy/Foundation-of-Data-Science/blob/main/CSV_File(value_counts_function).ipynb\" target=\"_parent\"><img src=\"https://colab.research.google.com/assets/colab-badge.svg\" alt=\"Open In Colab\"/></a>"
      ]
    },
    {
      "cell_type": "markdown",
      "source": [
        "# Interepretation on CSV File"
      ],
      "metadata": {
        "id": "O8im-uaX1kn0"
      }
    },
    {
      "cell_type": "markdown",
      "source": [
        "**Count the NULL values**"
      ],
      "metadata": {
        "id": "6-utEm6C2TAh"
      }
    },
    {
      "cell_type": "code",
      "source": [
        "import pandas as pd\n",
        "data = pd.read_csv(\"/content/drive/MyDrive/Data/climate_change_indicators.csv\")\n",
        "# print(data.head())\n",
        "print(data.isnull().sum())"
      ],
      "metadata": {
        "colab": {
          "base_uri": "https://localhost:8080/"
        },
        "id": "46Pc8QaR2Xjx",
        "outputId": "39bba2f4-518d-4146-b855-d4ab6f75f87b"
      },
      "execution_count": null,
      "outputs": [
        {
          "output_type": "stream",
          "name": "stdout",
          "text": [
            "ObjectId      0\n",
            "Country       0\n",
            "ISO2          2\n",
            "ISO3          0\n",
            "Indicator     0\n",
            "             ..\n",
            "F2018        12\n",
            "F2019        12\n",
            "F2020        13\n",
            "F2021        12\n",
            "F2022        12\n",
            "Length: 72, dtype: int64\n"
          ]
        }
      ]
    },
    {
      "cell_type": "markdown",
      "source": [
        "**Value_Counts()**\n",
        "\n",
        "Reference Link: https://pandas.pydata.org/pandas-docs/stable/reference/api/pandas.Series.value_counts.html\n",
        "\n",
        "The value_counts() function returns an object containing counts of unique values.This means it enables us to count the number of unique elements in a column of a Pandas dataframe."
      ],
      "metadata": {
        "id": "0gNoDvgw3UNg"
      }
    },
    {
      "cell_type": "code",
      "source": [
        "import pandas as pd\n",
        "data = pd.read_csv(\"/content/drive/MyDrive/Data/climate_change_indicators.csv\")\n",
        "print(data.value_counts())"
      ],
      "metadata": {
        "colab": {
          "base_uri": "https://localhost:8080/"
        },
        "id": "PTH5xCon3l1H",
        "outputId": "62e5deb0-c80b-4428-cb15-7a87ce0181b8"
      },
      "execution_count": null,
      "outputs": [
        {
          "output_type": "stream",
          "name": "stdout",
          "text": [
            "ObjectId  Country                       ISO2  ISO3  Indicator                                                                                         Unit            Source                                                                                                                                                                                                                                               CTS_Code  CTS_Name                    CTS_Full_Descriptor                                                          F1961   F1962   F1963   F1964   F1965   F1966   F1967   F1968   F1969   F1970   F1971   F1972   F1973   F1974   F1975   F1976   F1977   F1978   F1979   F1980   F1981   F1982   F1983   F1984   F1985   F1986   F1987   F1988  F1989   F1990   F1991   F1992   F1993   F1994   F1995   F1996   F1997   F1998  F1999  F2000   F2001  F2002  F2003  F2004   F2005  F2006   F2007  F2008  F2009   F2010   F2011  F2012  F2013  F2014  F2015  F2016  F2017  F2018  F2019  F2020  F2021   F2022 \n",
            "1         Afghanistan, Islamic Rep. of  AF    AFG   Temperature change with respect to a baseline climatology, corresponding to the period 1951-1980  Degree Celsius  Food and Agriculture Organization of the United Nations (FAO). 2022. FAOSTAT Climate Change, Climate Indicators, Temperature change. License: CC BY-NC-SA 3.0 IGO. Extracted from: https://www.fao.org/faostat/en/#data/ET. Accessed on 2023-03-28.  ECCS      Surface Temperature Change  Environment, Climate Change, Climate Indicators, Surface Temperature Change  -0.113  -0.164   0.847  -0.764  -0.244   0.226  -0.371  -0.423  -0.539   0.813   0.619  -1.124   0.232  -0.489  -0.445  -0.286   0.513   0.129   0.361   0.600   0.483  -0.346   0.164   0.145   0.283  -0.141   0.391  0.919  -0.205   0.730  -0.168  -0.294   0.220   0.430   0.359  -0.116   0.471  0.675  1.198   0.993  1.311  1.365  0.587   1.373  0.401   1.720  0.675  0.704   0.895   1.613  1.397  0.223  1.281  0.456  1.093  1.555  1.540  1.544  0.910  0.498   1.327   2.012    1\n",
            "151       Norway                        NO    NOR   Temperature change with respect to a baseline climatology, corresponding to the period 1951-1980  Degree Celsius  Food and Agriculture Organization of the United Nations (FAO). 2022. FAOSTAT Climate Change, Climate Indicators, Temperature change. License: CC BY-NC-SA 3.0 IGO. Extracted from: https://www.fao.org/faostat/en/#data/ET. Accessed on 2023-03-28.  ECCS      Surface Temperature Change  Environment, Climate Change, Climate Indicators, Surface Temperature Change   1.239  -0.776  -0.130   0.373  -0.264  -1.642   0.558  -0.937  -0.173  -0.695  -0.079   0.931   0.918   0.969   1.058  -0.041  -0.552  -0.101  -1.070  -0.313  -0.494  -0.054   0.633   0.532  -0.594  -0.430  -0.830  0.476   1.741   1.517   0.977   1.121   0.697   0.065   0.944  -0.060   0.761  0.383  1.257   1.427  0.613  1.386  1.089   1.300  1.759   1.504  1.702  1.619   1.393  -0.341  1.398  1.063  0.791  2.412  1.781  1.718  1.551  1.485  1.208  2.389   1.499   1.918    1\n",
            "141       Nepal                         NP    NPL   Temperature change with respect to a baseline climatology, corresponding to the period 1951-1980  Degree Celsius  Food and Agriculture Organization of the United Nations (FAO). 2022. FAOSTAT Climate Change, Climate Indicators, Temperature change. License: CC BY-NC-SA 3.0 IGO. Extracted from: https://www.fao.org/faostat/en/#data/ET. Accessed on 2023-03-28.  ECCS      Surface Temperature Change  Environment, Climate Change, Climate Indicators, Surface Temperature Change   0.130  -0.448  -0.184   0.177  -0.356   0.247  -0.254  -0.394   0.119   0.128  -0.561   0.024   0.161   0.150  -0.128  -0.035  -0.022  -0.410   0.318   0.121  -0.087  -0.164  -0.423  -0.079   0.324  -0.063   0.349  0.595   0.079  -0.035   0.075  -0.073  -0.177   0.158   0.305   0.208  -0.413  0.313  0.640   0.082  0.448  0.551  0.306   0.351  0.678   0.796  0.727  0.347   1.119   1.138  0.231  0.402  0.189  0.337  0.654  1.169  1.071  0.627  0.854  0.229   0.632   1.132    1\n",
            "142       Netherlands, The              NL    NLD   Temperature change with respect to a baseline climatology, corresponding to the period 1951-1980  Degree Celsius  Food and Agriculture Organization of the United Nations (FAO). 2022. FAOSTAT Climate Change, Climate Indicators, Temperature change. License: CC BY-NC-SA 3.0 IGO. Extracted from: https://www.fao.org/faostat/en/#data/ET. Accessed on 2023-03-28.  ECCS      Surface Temperature Change  Environment, Climate Change, Climate Indicators, Surface Temperature Change   0.852  -0.908  -1.270  -0.337  -0.728   0.273   0.757   0.156  -0.007  -0.590   0.045  -0.116   0.290   0.230   1.035   0.709   0.159  -0.068  -0.902   0.010   0.339   0.470   0.870   0.062  -0.851  -0.197  -0.503  0.796   1.541   1.567   0.265   1.184   0.250   1.367   1.542  -0.779   0.611  1.068  1.574   1.595  1.266  1.526  1.207   1.160  1.252   1.507  2.074  1.432   1.223   0.100  1.071  1.149  0.427  2.564  1.290  1.936  1.731  2.135  2.142  2.483   1.316   2.601    1\n",
            "143       New Caledonia                 NC    NCL   Temperature change with respect to a baseline climatology, corresponding to the period 1951-1980  Degree Celsius  Food and Agriculture Organization of the United Nations (FAO). 2022. FAOSTAT Climate Change, Climate Indicators, Temperature change. License: CC BY-NC-SA 3.0 IGO. Extracted from: https://www.fao.org/faostat/en/#data/ET. Accessed on 2023-03-28.  ECCS      Surface Temperature Change  Environment, Climate Change, Climate Indicators, Surface Temperature Change  -0.248   0.081  -0.211   0.164  -0.806  -0.638   0.032  -0.429  -0.167   0.454   0.128  -0.207   0.799   0.293   0.230   0.155   0.159   0.292   0.208   0.421   0.377   0.194   0.692   0.328   0.509   0.366   0.069  1.050   0.479   0.764   0.350   0.467   0.270   0.228   1.010   1.204   0.549  2.002  1.229   0.759  1.027  1.030  0.788   0.913  0.762   0.683  1.146  1.129   0.909   1.254  1.022  0.870  1.026  1.005  1.215  2.026  1.768  1.384  1.303  1.764   1.689   2.421    1\n",
            "                                                                                                                                                                                                                                                                                                                                                                                                                                                                                                                                                                                                                                                                                                                                                                                                                                                                                                                                                                                                                                            ..\n",
            "77        Gibraltar                     GI    GIB   Temperature change with respect to a baseline climatology, corresponding to the period 1951-1980  Degree Celsius  Food and Agriculture Organization of the United Nations (FAO). 2022. FAOSTAT Climate Change, Climate Indicators, Temperature change. License: CC BY-NC-SA 3.0 IGO. Extracted from: https://www.fao.org/faostat/en/#data/ET. Accessed on 2023-03-28.  ECCS      Surface Temperature Change  Environment, Climate Change, Climate Indicators, Surface Temperature Change   0.595   0.536   0.022   0.483  -0.087   0.228  -0.125   0.016  -0.310  -0.048  -0.810  -0.865  -0.157  -0.369  -0.177  -0.469  -0.144   0.213   0.396   0.312   0.358   0.481   0.382  -0.150   0.592   0.227   0.497  0.782   0.908   1.202   0.111   0.176  -0.128   0.736   1.315   0.747   1.470  1.109  0.715   0.829  1.280  0.862  1.400   1.027  0.841   1.425  0.830  0.982   1.283   1.318  1.618  0.924  0.869  1.417  1.382  1.726  2.005  0.739  1.300  1.923   1.504   2.228    1\n",
            "78        Greece                        GR    GRC   Temperature change with respect to a baseline climatology, corresponding to the period 1951-1980  Degree Celsius  Food and Agriculture Organization of the United Nations (FAO). 2022. FAOSTAT Climate Change, Climate Indicators, Temperature change. License: CC BY-NC-SA 3.0 IGO. Extracted from: https://www.fao.org/faostat/en/#data/ET. Accessed on 2023-03-28.  ECCS      Surface Temperature Change  Environment, Climate Change, Climate Indicators, Surface Temperature Change   0.479   0.619   0.305  -0.301  -0.322   0.790  -0.194   0.182  -0.090   0.269  -0.222  -0.177  -0.357  -0.193  -0.250  -0.916   0.330  -0.555   0.179  -0.379  -0.191  -0.243  -0.493  -0.123  -0.063   0.312  -0.395  0.129  -0.204   0.368  -0.197  -0.528  -0.328   1.060  -0.043  -0.161  -0.195  0.632  0.800   0.679  1.314  0.435  0.385   0.337  0.213   0.254  1.080  0.881   0.771   1.584  0.394  1.235  1.317  1.060  0.904  1.561  0.642  1.905  1.381  1.307   1.655   1.040    1\n",
            "79        Greenland                     GL    GRL   Temperature change with respect to a baseline climatology, corresponding to the period 1951-1980  Degree Celsius  Food and Agriculture Organization of the United Nations (FAO). 2022. FAOSTAT Climate Change, Climate Indicators, Temperature change. License: CC BY-NC-SA 3.0 IGO. Extracted from: https://www.fao.org/faostat/en/#data/ET. Accessed on 2023-03-28.  ECCS      Surface Temperature Change  Environment, Climate Change, Climate Indicators, Surface Temperature Change  -0.295   0.842   0.308   0.257   0.800  -0.212  -0.371  -0.260  -0.252  -0.224  -0.784  -0.841  -0.987   0.306  -1.093  -0.259   0.760  -0.682   0.498   0.919  -0.360  -0.642  -2.062  -1.455   0.891   0.381  -0.121  0.513  -1.537  -0.348  -0.291  -1.228  -1.355  -0.425  -0.328   0.667   0.391  1.269  0.522   0.839  0.831  1.186  2.328   1.469  1.878   1.717  1.363  0.959   0.851   3.058  1.684  1.625  1.381  1.447  0.205  2.381  1.210  0.934  2.206  1.274   2.482   1.413    1\n",
            "80        Grenada                       GD    GRD   Temperature change with respect to a baseline climatology, corresponding to the period 1951-1980  Degree Celsius  Food and Agriculture Organization of the United Nations (FAO). 2022. FAOSTAT Climate Change, Climate Indicators, Temperature change. License: CC BY-NC-SA 3.0 IGO. Extracted from: https://www.fao.org/faostat/en/#data/ET. Accessed on 2023-03-28.  ECCS      Surface Temperature Change  Environment, Climate Change, Climate Indicators, Surface Temperature Change   0.114   0.053   0.309  -0.052  -0.196   0.065  -0.233  -0.139   0.504   0.299  -0.303  -0.117   0.073  -0.447  -0.396  -0.240  -0.127   0.067   0.274   0.212   0.331   0.085   0.360  -0.048  -0.429  -0.192   0.442  0.446  -0.169   0.203   0.398   0.388   0.431   0.456   0.710   0.471   0.630  1.187  0.617   0.462  0.691  0.627  0.905   0.433  1.004   0.739  0.678  0.502   0.507   1.201  0.677  0.584  0.776  0.641  0.837  0.945  0.920  0.543  1.169  1.235   0.767   0.698    1\n",
            "225       Zimbabwe                      ZW    ZWE   Temperature change with respect to a baseline climatology, corresponding to the period 1951-1980  Degree Celsius  Food and Agriculture Organization of the United Nations (FAO). 2022. FAOSTAT Climate Change, Climate Indicators, Temperature change. License: CC BY-NC-SA 3.0 IGO. Extracted from: https://www.fao.org/faostat/en/#data/ET. Accessed on 2023-03-28.  ECCS      Surface Temperature Change  Environment, Climate Change, Climate Indicators, Surface Temperature Change   0.267   0.237  -0.458  -0.097  -0.480   0.215  -0.043   0.093   0.215   0.421  -0.052  -0.397   0.601  -0.485  -0.262  -0.436   0.433  -0.016   0.189  -0.024  -0.360   0.170   1.223   0.483   0.027   0.025   1.070  0.447   0.181   0.567   0.192   1.010   0.300  -0.085   0.685  -0.247  -0.025  0.801  0.030  -0.417  0.004  0.487  0.355  -0.004  0.945  -0.260  0.127  0.078  -0.226   0.935  0.232  0.334  0.118  0.025  0.970  1.270  0.088  0.453  0.925  0.389  -0.125  -0.490    1\n",
            "Length: 156, dtype: int64\n"
          ]
        }
      ]
    },
    {
      "cell_type": "markdown",
      "source": [
        "# 1. value_counts() with default parameters\n",
        "\n",
        "Let’s call the value_counts() on the Embarked column of the dataset. This will return the count of unique occurrences in this column."
      ],
      "metadata": {
        "id": "vnO0A0cv4-fS"
      }
    },
    {
      "cell_type": "code",
      "source": [
        "import pandas as pd\n",
        "data = pd.read_csv(\"/content/drive/MyDrive/Data/climate_change_indicators.csv\")\n",
        "print(data['CTS_Full_Descriptor'].value_counts())\n",
        "print()\n",
        "print(data['F1998'].value_counts())"
      ],
      "metadata": {
        "colab": {
          "base_uri": "https://localhost:8080/"
        },
        "id": "gqYrvIDu4A5S",
        "outputId": "8d4316e8-1b25-4ad9-d832-1b4aad3e0c39"
      },
      "execution_count": null,
      "outputs": [
        {
          "output_type": "stream",
          "name": "stdout",
          "text": [
            "Environment, Climate Change, Climate Indicators, Surface Temperature Change    225\n",
            "Name: CTS_Full_Descriptor, dtype: int64\n",
            "\n",
            "1.046    3\n",
            "1.035    2\n",
            "0.940    2\n",
            "0.736    2\n",
            "0.825    2\n",
            "        ..\n",
            "0.632    1\n",
            "1.269    1\n",
            "0.867    1\n",
            "1.194    1\n",
            "0.801    1\n",
            "Name: F1998, Length: 192, dtype: int64\n"
          ]
        }
      ]
    },
    {
      "cell_type": "markdown",
      "source": [
        "The function returns the count of all unique values in the given index in descending order without any null values. We can quickly see that the maximum people embarked from Southampton, followed by Cherbourg and then Queenstown."
      ],
      "metadata": {
        "id": "r1I_bIQa5gLv"
      }
    },
    {
      "cell_type": "markdown",
      "source": [
        "# 2. value_counts() with relative frequencies of the unique values.\n",
        "\n",
        "Sometimes, getting a percentage of the total is a better criteria then the count.\n",
        "\n",
        "By setting **normalize =True**,the object returned will contain the relative frequencies of the unique values.\n",
        "\n",
        "**normalize** is set to False by default."
      ],
      "metadata": {
        "id": "JdrxLcsP5mdF"
      }
    },
    {
      "cell_type": "code",
      "source": [
        "import pandas as pd\n",
        "data = pd.read_csv(\"/content/drive/MyDrive/Data/climate_change_indicators.csv\")\n",
        "print(data['F1989'].value_counts(normalize=True))\n",
        "print()\n",
        "print(data['F1989'].value_counts())"
      ],
      "metadata": {
        "colab": {
          "base_uri": "https://localhost:8080/"
        },
        "id": "w2KtI3Mg56nL",
        "outputId": "92107d48-cbdb-4c13-8b01-397fca59e3b7"
      },
      "execution_count": null,
      "outputs": [
        {
          "output_type": "stream",
          "name": "stdout",
          "text": [
            " 0.324    0.015789\n",
            "-0.077    0.015789\n",
            " 0.130    0.015789\n",
            "-0.052    0.015789\n",
            " 0.181    0.010526\n",
            "            ...   \n",
            " 0.132    0.005263\n",
            " 0.116    0.005263\n",
            " 0.441    0.005263\n",
            "-0.044    0.005263\n",
            " 0.139    0.005263\n",
            "Name: F1989, Length: 168, dtype: float64\n",
            "\n",
            " 0.324    3\n",
            "-0.077    3\n",
            " 0.130    3\n",
            "-0.052    3\n",
            " 0.181    2\n",
            "         ..\n",
            " 0.132    1\n",
            " 0.116    1\n",
            " 0.441    1\n",
            "-0.044    1\n",
            " 0.139    1\n",
            "Name: F1989, Length: 168, dtype: int64\n"
          ]
        }
      ]
    },
    {
      "cell_type": "markdown",
      "source": [
        "# 3. value_counts() in ascending order\n",
        "\n",
        "Again, to sort the results obtained in ascending order, simply set the **ascending** parameter to **True**, which is again set to **False by default**."
      ],
      "metadata": {
        "id": "8E1mTm7-6vxa"
      }
    },
    {
      "cell_type": "code",
      "source": [
        "import pandas as pd\n",
        "data = pd.read_csv(\"/content/drive/MyDrive/Data/climate_change_indicators.csv\")\n",
        "print(data[\"F1998\"].value_counts(ascending=True))\n",
        "print()\n",
        "print(data[\"F1998\"].value_counts())"
      ],
      "metadata": {
        "colab": {
          "base_uri": "https://localhost:8080/"
        },
        "id": "Xoqtg2vq6zVh",
        "outputId": "80e48f4a-e639-4742-98f2-3c80261e6992"
      },
      "execution_count": null,
      "outputs": [
        {
          "output_type": "stream",
          "name": "stdout",
          "text": [
            "0.675    1\n",
            "1.483    1\n",
            "0.949    1\n",
            "1.192    1\n",
            "1.284    1\n",
            "        ..\n",
            "0.968    2\n",
            "0.940    2\n",
            "0.991    2\n",
            "1.187    2\n",
            "1.046    3\n",
            "Name: F1998, Length: 192, dtype: int64\n",
            "\n",
            "1.046    3\n",
            "1.035    2\n",
            "0.940    2\n",
            "0.736    2\n",
            "0.825    2\n",
            "        ..\n",
            "0.632    1\n",
            "1.269    1\n",
            "0.867    1\n",
            "1.194    1\n",
            "0.801    1\n",
            "Name: F1998, Length: 192, dtype: int64\n"
          ]
        }
      ]
    },
    {
      "cell_type": "markdown",
      "source": [
        "# 4. value_counts() with NaN values\n",
        "\n",
        "By default, count of null values are excluded. However, this can be reversed by setting **dropna=False**."
      ],
      "metadata": {
        "id": "lwbssrWi7o96"
      }
    },
    {
      "cell_type": "code",
      "source": [
        "import pandas as pd\n",
        "data = pd.read_csv(\"/content/drive/MyDrive/Data/climate_change_indicators.csv\")\n",
        "print(data[\"F1989\"].value_counts(dropna=False))\n",
        "print()\n",
        "print(data[\"F1989\"].value_counts())"
      ],
      "metadata": {
        "colab": {
          "base_uri": "https://localhost:8080/"
        },
        "id": "TI23achP8Owb",
        "outputId": "6d28916c-03bd-4684-d083-5e5b237d2b4c"
      },
      "execution_count": null,
      "outputs": [
        {
          "output_type": "stream",
          "name": "stdout",
          "text": [
            " NaN      35\n",
            " 0.324     3\n",
            "-0.077     3\n",
            " 0.130     3\n",
            "-0.052     3\n",
            "          ..\n",
            " 0.132     1\n",
            " 0.116     1\n",
            " 0.441     1\n",
            "-0.044     1\n",
            " 0.139     1\n",
            "Name: F1989, Length: 169, dtype: int64\n",
            "\n",
            " 0.324    3\n",
            "-0.077    3\n",
            " 0.130    3\n",
            "-0.052    3\n",
            " 0.181    2\n",
            "         ..\n",
            " 0.132    1\n",
            " 0.116    1\n",
            " 0.441    1\n",
            "-0.044    1\n",
            " 0.139    1\n",
            "Name: F1989, Length: 168, dtype: int64\n"
          ]
        }
      ]
    },
    {
      "cell_type": "markdown",
      "source": [
        "# 5. value_counts() with bins\n",
        "value_counts() can also be used to bin continuous data into discrete intervals with the help of bin parameter.So rather than counting one can group the values in bins. **This option works only with numerical data.**"
      ],
      "metadata": {
        "id": "9R8pObGZ89Nt"
      }
    },
    {
      "cell_type": "code",
      "source": [
        "import pandas as pd\n",
        "data = pd.read_csv(\"/content/drive/MyDrive/Data/ds_salaries.csv\")\n",
        "print(data['salary'].value_counts())"
      ],
      "metadata": {
        "colab": {
          "base_uri": "https://localhost:8080/"
        },
        "id": "QVCFv0Kh887A",
        "outputId": "d56af318-f2c7-43e2-bb3e-b999ebd41e3a"
      },
      "execution_count": null,
      "outputs": [
        {
          "output_type": "stream",
          "name": "stdout",
          "text": [
            "100000     18\n",
            "80000      18\n",
            "120000     15\n",
            "60000      15\n",
            "150000     14\n",
            "           ..\n",
            "256000      1\n",
            "39600       1\n",
            "1335000     1\n",
            "52500       1\n",
            "129000      1\n",
            "Name: salary, Length: 272, dtype: int64\n"
          ]
        }
      ]
    },
    {
      "cell_type": "markdown",
      "source": [
        "This doesn't convey much since the function above has given a count of every available salary amount. Instead, let's group them into n bins."
      ],
      "metadata": {
        "id": "-bW9m3WU-Nqb"
      }
    },
    {
      "cell_type": "code",
      "source": [
        "import pandas as pd\n",
        "data = pd.read_csv(\"/content/drive/MyDrive/Data/ds_salaries.csv\")\n",
        "print(data['salary'].value_counts(bins=20))"
      ],
      "metadata": {
        "colab": {
          "base_uri": "https://localhost:8080/"
        },
        "id": "zsInbuY7-RyL",
        "outputId": "4aad6229-01f9-4694-f573-02e4edaf1fb9"
      },
      "execution_count": null,
      "outputs": [
        {
          "output_type": "stream",
          "name": "stdout",
          "text": [
            "(-26396.001, 1523800.0]     587\n",
            "(1523800.0, 3043600.0]       10\n",
            "(10642600.0, 12162400.0]      2\n",
            "(3043600.0, 4563400.0]        2\n",
            "(4563400.0, 6083200.0]        2\n",
            "(6083200.0, 7603000.0]        2\n",
            "(28880200.0, 30400000.0]      1\n",
            "(7603000.0, 9122800.0]        1\n",
            "(9122800.0, 10642600.0]       0\n",
            "(12162400.0, 13682200.0]      0\n",
            "(13682200.0, 15202000.0]      0\n",
            "(16721800.0, 18241600.0]      0\n",
            "(18241600.0, 19761400.0]      0\n",
            "(19761400.0, 21281200.0]      0\n",
            "(21281200.0, 22801000.0]      0\n",
            "(22801000.0, 24320800.0]      0\n",
            "(24320800.0, 25840600.0]      0\n",
            "(25840600.0, 27360400.0]      0\n",
            "(27360400.0, 28880200.0]      0\n",
            "(15202000.0, 16721800.0]      0\n",
            "Name: salary, dtype: int64\n"
          ]
        }
      ]
    },
    {
      "cell_type": "markdown",
      "source": [
        "Binning makes it easy to understand the idea being conveyed.\n",
        "\n",
        "We can easily see that most of the employee out of the total employee gets salary less than 1523800.0.\n",
        "\n",
        "value_counts() is a very useful method and helps to get a sense of data easily."
      ],
      "metadata": {
        "id": "dVJoSCQD-1CR"
      }
    },
    {
      "cell_type": "code",
      "source": [
        "import pandas as pd\n",
        "data = pd.read_csv(\"/content/drive/MyDrive/Data/ds_salaries.csv\")\n",
        "print(data.columns)"
      ],
      "metadata": {
        "colab": {
          "base_uri": "https://localhost:8080/"
        },
        "id": "xjlGfY7xBuEQ",
        "outputId": "b21f1d4a-b5c5-4827-faa5-f6119e6ae685"
      },
      "execution_count": null,
      "outputs": [
        {
          "output_type": "stream",
          "name": "stdout",
          "text": [
            "Index(['id', 'work_year', 'experience_level', 'employment_type', 'job_title',\n",
            "       'salary', 'salary_currency', 'salary_in_usd', 'employee_residence',\n",
            "       'remote_ratio', 'company_location', 'company_size'],\n",
            "      dtype='object')\n"
          ]
        }
      ]
    },
    {
      "cell_type": "code",
      "source": [
        "import pandas as pd\n",
        "ls = list(pd.read_csv(\"/content/drive/MyDrive/Data/ds_salaries.csv\"))\n",
        "print(ls)"
      ],
      "metadata": {
        "colab": {
          "base_uri": "https://localhost:8080/"
        },
        "id": "3uJW1mvDCFL_",
        "outputId": "827a4524-a69e-42f5-82c8-079cf2350b03"
      },
      "execution_count": null,
      "outputs": [
        {
          "output_type": "stream",
          "name": "stdout",
          "text": [
            "['id', 'work_year', 'experience_level', 'employment_type', 'job_title', 'salary', 'salary_currency', 'salary_in_usd', 'employee_residence', 'remote_ratio', 'company_location', 'company_size']\n"
          ]
        }
      ]
    },
    {
      "cell_type": "code",
      "source": [
        "import pandas as pd\n",
        "data =pd.read_csv(\"/content/drive/MyDrive/Data/ds_salaries.csv\")\n",
        "ls=list(data.salary)\n",
        "print(ls)"
      ],
      "metadata": {
        "colab": {
          "base_uri": "https://localhost:8080/"
        },
        "id": "Vi2VT8GvC0Pf",
        "outputId": "04c73940-447c-474b-d579-ec24cc1bc7fb"
      },
      "execution_count": null,
      "outputs": [
        {
          "output_type": "stream",
          "name": "stdout",
          "text": [
            "[70000, 260000, 85000, 20000, 150000, 72000, 190000, 11000000, 135000, 125000, 45000, 3000000, 35000, 87000, 85000, 8000, 4450000, 100000, 423000, 56000, 299000, 450000, 42000, 98000, 115000, 325000, 42000, 720000, 100000, 157000, 51999, 70000, 60000, 450000, 41000, 65000, 103000, 250000, 10000, 138000, 45760, 70000, 44000, 106000, 88000, 14000, 60000, 188000, 105000, 61500, 450000, 91000, 300000, 48000, 60000, 130000, 34000, 118000, 120000, 138350, 110000, 130800, 19000, 412000, 40000, 55000, 43200, 190200, 105000, 80000, 55000, 37000, 60000, 150000, 235000, 45000, 100000, 400000, 270000, 80000, 67000, 140000, 68000, 40000, 130000, 110000, 50000, 110000, 170000, 80000, 75000, 65000, 1450000, 276000, 2200000, 120000, 12000, 450000, 70000, 81000, 75000, 150000, 11000000, 62000, 73000, 37456, 235000, 115000, 150000, 2250000, 80000, 82500, 75000, 12000, 38400, 225000, 50000, 34000, 90000, 200000, 60000, 200000, 50000, 80000, 8760, 151000, 120000, 700000, 20000, 3000000, 100000, 42000, 38400, 24000, 100000, 90000, 7000000, 8500000, 220000, 80000, 135000, 240000, 150000, 82500, 100000, 70000, 53000, 90000, 153000, 160000, 168000, 150000, 95000, 13400, 144000, 159500, 160000, 423000, 120000, 125000, 230000, 85000, 24000, 54000, 110000, 165000, 80000, 250000, 55000, 150000, 170000, 60000, 60000, 235000, 51400, 174000, 58000, 30400000, 81000, 420000, 1672000, 76760, 22000, 45000, 12000, 4000, 50000, 59000, 65000, 74000, 152000, 21844, 18000, 174000, 120500, 147000, 9272, 1799997, 4000000, 90000, 52000, 195000, 32000, 50000, 160000, 69600, 200000, 165000, 20000, 120000, 21000, 48000, 48000, 435000, 21000, 185000, 180000, 76760, 75000, 140000, 180000, 85000, 2500000, 40900, 225000, 416000, 110000, 75000, 135000, 90000, 1200000, 256000, 200000, 200000, 180000, 110000, 80000, 39600, 4000, 1600000, 130000, 80000, 110000, 165000, 1335000, 52500, 31000, 108000, 70000, 170000, 115000, 90000, 600000, 2100000, 93000, 125000, 200000, 147000, 185000, 120000, 130000, 54000, 1250000, 4900000, 21600, 160000, 93150, 111775, 250000, 55000, 72500, 102000, 65000, 85000, 65720, 100000, 58000, 55000, 180000, 50000, 112000, 100000, 59000, 105000, 69999, 7000000, 87000, 109000, 43200, 135000, 155000, 120600, 130000, 90000, 170000, 150000, 102100, 84900, 136620, 99360, 90000, 80000, 146000, 123000, 40000, 99000, 116000, 106260, 126500, 242000, 200000, 50000, 30000, 60000, 40000, 165220, 35000, 120160, 90320, 181940, 132320, 220110, 160080, 180000, 120000, 124190, 130000, 110000, 170000, 115500, 112900, 90320, 112900, 90320, 165400, 132320, 167000, 243900, 136600, 109280, 128875, 93700, 224000, 167875, 175000, 156600, 108800, 95550, 113000, 135000, 161342, 137141, 167000, 123000, 60000, 50000, 150000, 211500, 192400, 90700, 130000, 61300, 130000, 61300, 160000, 138600, 136000, 58000, 135000, 170000, 123000, 189650, 164996, 50000, 50000, 150000, 132000, 165400, 208775, 147800, 136994, 101570, 128875, 93700, 6000000, 132320, 28500, 164000, 155000, 95000, 75000, 120000, 112900, 90320, 145000, 105400, 80000, 90000, 215300, 158200, 209100, 154600, 115934, 81666, 175000, 75000, 58000, 183600, 40000, 180000, 55000, 35000, 60000, 45000, 60000, 45000, 260000, 60000, 63900, 160000, 112300, 241000, 159000, 180000, 80000, 82900, 100800, 45000, 140400, 30000, 40000, 30000, 80000, 70000, 80000, 70000, 60000, 80000, 189650, 164996, 40000, 30000, 75000, 60000, 215300, 70000, 209100, 154600, 180000, 20000, 80000, 100000, 250000, 120000, 125000, 240000, 105000, 80000, 1400000, 2400000, 53000, 100000, 50000, 1400000, 148000, 120000, 144000, 104890, 100000, 140000, 135000, 50000, 220000, 140000, 140000, 70000, 185100, 220000, 200000, 120000, 120000, 65000, 324000, 216000, 210000, 120000, 230000, 100000, 100000, 29000, 200000, 75000, 150000, 100000, 100000, 153000, 52800, 165000, 85000, 66500, 57000, 30000, 40000, 121000, 115000, 120000, 75000, 59000, 120000, 157000, 150000, 90000, 65000, 65000, 20000, 48000, 152500, 62000, 115000, 380000, 88000, 10000, 20000, 405000, 135000, 177000, 78000, 135000, 100000, 90320, 85000, 75000, 214000, 192600, 266400, 213120, 112900, 155000, 141300, 102100, 115934, 81666, 206699, 99100, 130000, 115000, 110500, 130000, 99050, 160000, 205300, 140400, 176000, 144000, 200100, 160000, 145000, 70500, 205300, 140400, 205300, 184700, 175100, 140250, 116150, 54000, 170000, 50000, 80000, 140000, 210000, 140000, 100000, 69000, 210000, 140000, 210000, 150075, 100000, 25000, 126500, 106260, 220110, 160080, 105000, 110925, 35000, 140000, 99000, 60000, 192564, 144854, 230000, 150000, 150260, 109280, 210000, 170000, 160000, 130000, 67000, 52000, 154000, 126000, 129000, 150000, 200000]\n"
          ]
        }
      ]
    },
    {
      "cell_type": "code",
      "source": [
        "import pandas as pd\n",
        "data =pd.read_csv(\"/content/drive/MyDrive/Data/ds_salaries.csv\")\n",
        "ls=list(data.salary)\n",
        "print(ls)\n",
        "data1=pd.Series(ls)\n",
        "print(data1)\n",
        "print(data1.count())"
      ],
      "metadata": {
        "colab": {
          "base_uri": "https://localhost:8080/"
        },
        "id": "qlWQBASGDAOp",
        "outputId": "3e40f0b6-dfbb-4862-ca4a-11ad3d00bec5"
      },
      "execution_count": null,
      "outputs": [
        {
          "output_type": "stream",
          "name": "stdout",
          "text": [
            "[70000, 260000, 85000, 20000, 150000, 72000, 190000, 11000000, 135000, 125000, 45000, 3000000, 35000, 87000, 85000, 8000, 4450000, 100000, 423000, 56000, 299000, 450000, 42000, 98000, 115000, 325000, 42000, 720000, 100000, 157000, 51999, 70000, 60000, 450000, 41000, 65000, 103000, 250000, 10000, 138000, 45760, 70000, 44000, 106000, 88000, 14000, 60000, 188000, 105000, 61500, 450000, 91000, 300000, 48000, 60000, 130000, 34000, 118000, 120000, 138350, 110000, 130800, 19000, 412000, 40000, 55000, 43200, 190200, 105000, 80000, 55000, 37000, 60000, 150000, 235000, 45000, 100000, 400000, 270000, 80000, 67000, 140000, 68000, 40000, 130000, 110000, 50000, 110000, 170000, 80000, 75000, 65000, 1450000, 276000, 2200000, 120000, 12000, 450000, 70000, 81000, 75000, 150000, 11000000, 62000, 73000, 37456, 235000, 115000, 150000, 2250000, 80000, 82500, 75000, 12000, 38400, 225000, 50000, 34000, 90000, 200000, 60000, 200000, 50000, 80000, 8760, 151000, 120000, 700000, 20000, 3000000, 100000, 42000, 38400, 24000, 100000, 90000, 7000000, 8500000, 220000, 80000, 135000, 240000, 150000, 82500, 100000, 70000, 53000, 90000, 153000, 160000, 168000, 150000, 95000, 13400, 144000, 159500, 160000, 423000, 120000, 125000, 230000, 85000, 24000, 54000, 110000, 165000, 80000, 250000, 55000, 150000, 170000, 60000, 60000, 235000, 51400, 174000, 58000, 30400000, 81000, 420000, 1672000, 76760, 22000, 45000, 12000, 4000, 50000, 59000, 65000, 74000, 152000, 21844, 18000, 174000, 120500, 147000, 9272, 1799997, 4000000, 90000, 52000, 195000, 32000, 50000, 160000, 69600, 200000, 165000, 20000, 120000, 21000, 48000, 48000, 435000, 21000, 185000, 180000, 76760, 75000, 140000, 180000, 85000, 2500000, 40900, 225000, 416000, 110000, 75000, 135000, 90000, 1200000, 256000, 200000, 200000, 180000, 110000, 80000, 39600, 4000, 1600000, 130000, 80000, 110000, 165000, 1335000, 52500, 31000, 108000, 70000, 170000, 115000, 90000, 600000, 2100000, 93000, 125000, 200000, 147000, 185000, 120000, 130000, 54000, 1250000, 4900000, 21600, 160000, 93150, 111775, 250000, 55000, 72500, 102000, 65000, 85000, 65720, 100000, 58000, 55000, 180000, 50000, 112000, 100000, 59000, 105000, 69999, 7000000, 87000, 109000, 43200, 135000, 155000, 120600, 130000, 90000, 170000, 150000, 102100, 84900, 136620, 99360, 90000, 80000, 146000, 123000, 40000, 99000, 116000, 106260, 126500, 242000, 200000, 50000, 30000, 60000, 40000, 165220, 35000, 120160, 90320, 181940, 132320, 220110, 160080, 180000, 120000, 124190, 130000, 110000, 170000, 115500, 112900, 90320, 112900, 90320, 165400, 132320, 167000, 243900, 136600, 109280, 128875, 93700, 224000, 167875, 175000, 156600, 108800, 95550, 113000, 135000, 161342, 137141, 167000, 123000, 60000, 50000, 150000, 211500, 192400, 90700, 130000, 61300, 130000, 61300, 160000, 138600, 136000, 58000, 135000, 170000, 123000, 189650, 164996, 50000, 50000, 150000, 132000, 165400, 208775, 147800, 136994, 101570, 128875, 93700, 6000000, 132320, 28500, 164000, 155000, 95000, 75000, 120000, 112900, 90320, 145000, 105400, 80000, 90000, 215300, 158200, 209100, 154600, 115934, 81666, 175000, 75000, 58000, 183600, 40000, 180000, 55000, 35000, 60000, 45000, 60000, 45000, 260000, 60000, 63900, 160000, 112300, 241000, 159000, 180000, 80000, 82900, 100800, 45000, 140400, 30000, 40000, 30000, 80000, 70000, 80000, 70000, 60000, 80000, 189650, 164996, 40000, 30000, 75000, 60000, 215300, 70000, 209100, 154600, 180000, 20000, 80000, 100000, 250000, 120000, 125000, 240000, 105000, 80000, 1400000, 2400000, 53000, 100000, 50000, 1400000, 148000, 120000, 144000, 104890, 100000, 140000, 135000, 50000, 220000, 140000, 140000, 70000, 185100, 220000, 200000, 120000, 120000, 65000, 324000, 216000, 210000, 120000, 230000, 100000, 100000, 29000, 200000, 75000, 150000, 100000, 100000, 153000, 52800, 165000, 85000, 66500, 57000, 30000, 40000, 121000, 115000, 120000, 75000, 59000, 120000, 157000, 150000, 90000, 65000, 65000, 20000, 48000, 152500, 62000, 115000, 380000, 88000, 10000, 20000, 405000, 135000, 177000, 78000, 135000, 100000, 90320, 85000, 75000, 214000, 192600, 266400, 213120, 112900, 155000, 141300, 102100, 115934, 81666, 206699, 99100, 130000, 115000, 110500, 130000, 99050, 160000, 205300, 140400, 176000, 144000, 200100, 160000, 145000, 70500, 205300, 140400, 205300, 184700, 175100, 140250, 116150, 54000, 170000, 50000, 80000, 140000, 210000, 140000, 100000, 69000, 210000, 140000, 210000, 150075, 100000, 25000, 126500, 106260, 220110, 160080, 105000, 110925, 35000, 140000, 99000, 60000, 192564, 144854, 230000, 150000, 150260, 109280, 210000, 170000, 160000, 130000, 67000, 52000, 154000, 126000, 129000, 150000, 200000]\n",
            "0       70000\n",
            "1      260000\n",
            "2       85000\n",
            "3       20000\n",
            "4      150000\n",
            "        ...  \n",
            "602    154000\n",
            "603    126000\n",
            "604    129000\n",
            "605    150000\n",
            "606    200000\n",
            "Length: 607, dtype: int64\n",
            "607\n"
          ]
        }
      ]
    },
    {
      "cell_type": "code",
      "source": [
        "import pandas as pd\n",
        "data =pd.read_csv(\"/content/drive/MyDrive/Data/climate_change_indicators.csv\")\n",
        "ls=list(data.F1998)\n",
        "print(ls)\n",
        "data1=pd.Series(ls)\n",
        "print(data1)\n",
        "print(data1.count())"
      ],
      "metadata": {
        "colab": {
          "base_uri": "https://localhost:8080/"
        },
        "id": "qupmjgeXDgDf",
        "outputId": "0dc64697-8e0b-49aa-e4e6-1ba5000956b7"
      },
      "execution_count": null,
      "outputs": [
        {
          "output_type": "stream",
          "name": "stdout",
          "text": [
            "[0.675, 0.795, 1.109, nan, 1.018, 1.064, 1.06, 1.046, 0.351, 1.316, nan, 1.092, 1.343, 1.184, 0.924, 1.435, 0.504, 1.079, 0.706, nan, 0.904, 1.042, 0.825, 0.926, 1.059, 0.857, 1.234, 1.091, 1.296, 0.775, 1.006, 0.545, 1.78, 1.414, 1.082, 2.47, 1.265, 1.195, 0.841, 0.721, 0.94, 0.94, 1.264, 0.901, 0.807, 0.937, 1.055, -0.258, 1.139, 1.127, 1.191, 0.961, 1.258, 0.869, 1.004, 0.999, 1.371, 1.311, 0.744, 0.847, 0.967, 0.442, 0.542, 0.991, 0.772, nan, 0.553, 0.765, 0.071, 0.947, 0.633, 1.119, 1.555, 1.26, 1.153, 1.14, 1.109, 0.632, 1.269, 1.187, 1.035, 0.867, 1.194, 1.56, 1.287, 1.244, 0.944, 1.018, 1.081, 0.238, 0.614, 1.05, 1.165, 1.295, 0.937, 0.928, 0.892, 0.969, 1.395, 1.199, 1.023, 0.494, 0.25, 0.498, 1.776, 1.47, 1.346, 0.84, 1.485, 0.657, 1.001, 0.93, 1.297, 0.76, 1.208, 0.74, nan, 0.821, 1.031, 1.279, 0.917, 1.214, 0.876, 0.004, 1.003, 1.801, 0.827, 0.873, 0.736, 0.238, 0.811, 0.922, 2.117, nan, 1.046, 1.483, 0.949, 1.192, 1.284, nan, 0.313, 1.068, 2.002, 0.981, 1.087, 0.652, 1.034, nan, 1.409, 0.746, 0.383, 0.745, 0.436, 0.602, 0.991, 1.012, 0.176, 1.29, 1.322, -0.607, 0.947, 1.212, 1.243, 1.174, 0.785, -0.035, 0.545, 1.22, 0.736, nan, 1.113, 1.175, 1.035, 1.574, nan, 0.968, 1.037, nan, 1.021, 1.359, 0.654, 0.617, 0.825, nan, 1.189, 1.187, 1.046, 1.085, 1.186, nan, 1.357, 0.561, 1.111, 1.147, 1.2, 0.765, 0.499, 1.529, 1.148, 1.088, nan, 0.201, 1.208, 0.987, 0.977, 1.354, 0.192, 0.411, 0.741, 0.968, 0.86, 1.272, 1.101, 0.102, 0.539, 0.757, 1.039, 1.307, 0.369, 0.894, 1.415, 0.993, nan, 0.876, 0.801]\n",
            "0      0.675\n",
            "1      0.795\n",
            "2      1.109\n",
            "3        NaN\n",
            "4      1.018\n",
            "       ...  \n",
            "220    1.415\n",
            "221    0.993\n",
            "222      NaN\n",
            "223    0.876\n",
            "224    0.801\n",
            "Length: 225, dtype: float64\n",
            "210\n"
          ]
        }
      ]
    },
    {
      "cell_type": "markdown",
      "source": [
        "About **pandas.Series.count()**\n",
        "\n",
        "Refrence Link: https://pandas.pydata.org/pandas-docs/stable/reference/api/pandas.Series.count.html#pandas.Series.count\n",
        "\n",
        "Return number of non-NA/null observations in the Series."
      ],
      "metadata": {
        "id": "C5dXEPLTDwb6"
      }
    }
  ]
}
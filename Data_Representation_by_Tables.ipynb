{
  "nbformat": 4,
  "nbformat_minor": 0,
  "metadata": {
    "colab": {
      "provenance": [],
      "include_colab_link": true
    },
    "kernelspec": {
      "name": "python3",
      "display_name": "Python 3"
    },
    "language_info": {
      "name": "python"
    }
  },
  "cells": [
    {
      "cell_type": "markdown",
      "metadata": {
        "id": "view-in-github",
        "colab_type": "text"
      },
      "source": [
        "<a href=\"https://colab.research.google.com/github/Palakdubeyy/Foundation-of-Data-Science/blob/main/Data_Representation_by_Tables.ipynb\" target=\"_parent\"><img src=\"https://colab.research.google.com/assets/colab-badge.svg\" alt=\"Open In Colab\"/></a>"
      ]
    },
    {
      "cell_type": "markdown",
      "source": [
        "**Data Represented by Tables**"
      ],
      "metadata": {
        "id": "RIbKONOQCNu9"
      }
    },
    {
      "cell_type": "markdown",
      "source": [
        "Tabular data refers to the data that is stored in the form of rows and columns i.e., in the form of a table.\n",
        "\n",
        "It is often preferred to store data in tabular form as data appears more organized and systematic.\n",
        "\n",
        "There are many modules available in Python to print data in tabular form.\n",
        "\n"
      ],
      "metadata": {
        "id": "avfs1DiXCS4O"
      }
    },
    {
      "cell_type": "markdown",
      "source": [
        "# 1. Printing Lists as Tabular Data using Pandas library"
      ],
      "metadata": {
        "id": "4RJy-sG8DAVH"
      }
    },
    {
      "cell_type": "markdown",
      "source": [
        "The most common way of printing lists in tabular form is by using the Pandas library in Python.\n",
        "\n",
        "Pandas is an important Python library used for data analysis and data manipulation.\n",
        "\n",
        "It stores data in the form of data frames which can be presented in tabular form."
      ],
      "metadata": {
        "id": "GRIFaZHkDCKC"
      }
    },
    {
      "cell_type": "code",
      "execution_count": null,
      "metadata": {
        "id": "vinkQtPHkAeq",
        "colab": {
          "base_uri": "https://localhost:8080/"
        },
        "outputId": "5a3f30ad-5b18-4320-e6d7-a69321319a0f"
      },
      "outputs": [
        {
          "output_type": "stream",
          "name": "stdout",
          "text": [
            "                    0\n",
            "0      Oshank Agrawal\n",
            "1             Madhavi\n",
            "2       Sakshi Tiwari\n",
            "3  Prince Kumar Gatte\n",
            "4        Harshraj Ray\n"
          ]
        }
      ],
      "source": [
        "import pandas as pd\n",
        "list=[\"Oshank Agrawal\",\"Madhavi\",\"Sakshi Tiwari\",\"Prince Kumar Gatte\",\"Harshraj Ray\"]\n",
        "# Calling DataFrame constructor on list\n",
        "df=pd.DataFrame(list)\n",
        "print(df)"
      ]
    },
    {
      "cell_type": "markdown",
      "source": [
        "We can see from the examples that using data frames, we can present data in columnar form using columns=[\"Name of Student\"] as a parameter in pd.Dataframe."
      ],
      "metadata": {
        "id": "Khsfsc2eEQZl"
      }
    },
    {
      "cell_type": "code",
      "source": [
        "import pandas as pd\n",
        "mylist=[\"Oshank Agrawal\",\"Madhavi\",\"Sakshi Tiwari\",\"Prince Kumar Gatte\",\"Harshraj Ray\"]\n",
        "data=pd.DataFrame(mylist,columns=[\"Name of Student\"])\n",
        "print(data)"
      ],
      "metadata": {
        "colab": {
          "base_uri": "https://localhost:8080/"
        },
        "id": "wNUgK3IVEUxw",
        "outputId": "aae8711f-08e3-49ab-b0c6-a5175ed7db2d"
      },
      "execution_count": null,
      "outputs": [
        {
          "output_type": "stream",
          "name": "stdout",
          "text": [
            "      Name of Student\n",
            "0      Oshank Agrawal\n",
            "1             Madhavi\n",
            "2       Sakshi Tiwari\n",
            "3  Prince Kumar Gatte\n",
            "4        Harshraj Ray\n"
          ]
        }
      ]
    },
    {
      "cell_type": "markdown",
      "source": [
        "# 2. Printing Lists as Tabular Data using Tabulate Module"
      ],
      "metadata": {
        "id": "yNIwKzgiFCUz"
      }
    },
    {
      "cell_type": "markdown",
      "source": [
        "Tabulate module is an open-source python package/module which is used to print tabular data in nicely formatted tables that make the data appear beautiful.\n",
        "\n",
        "It is user-friendly and has many formatting functions."
      ],
      "metadata": {
        "id": "QnspOy0BFPUr"
      }
    },
    {
      "cell_type": "markdown",
      "source": [
        "**Example**\n",
        "\n",
        " It is quite an easy method as we simply have to input the data in the list format for the number of rows we want and provide a title/heading to the columns. Here, We are using Name and Age as headers of the table"
      ],
      "metadata": {
        "id": "vQu8AChVFsVD"
      }
    },
    {
      "cell_type": "code",
      "source": [
        "from tabulate import tabulate\n",
        "\n",
        "print(tabulate([[\"Oshank Agrawal\",20],[\"Madhavi\",19],[\"Sakshi Tiwari\",20],[\"Prince Kumar Gatte\",21],[\"Harshraj Ray\",19]],headers=['Name', 'Age']))\n"
      ],
      "metadata": {
        "colab": {
          "base_uri": "https://localhost:8080/"
        },
        "id": "Q8V6RvmxHlJx",
        "outputId": "c59a863a-2c0b-4842-daf5-8c9d4d438bbb"
      },
      "execution_count": null,
      "outputs": [
        {
          "output_type": "stream",
          "name": "stdout",
          "text": [
            "Name                  Age\n",
            "------------------  -----\n",
            "Oshank Agrawal         20\n",
            "Madhavi                19\n",
            "Sakshi Tiwari          20\n",
            "Prince Kumar Gatte     21\n",
            "Harshraj Ray           19\n"
          ]
        }
      ]
    },
    {
      "cell_type": "markdown",
      "source": [
        "**Itterations on above code**"
      ],
      "metadata": {
        "id": "dXmU41PUHF9X"
      }
    },
    {
      "cell_type": "code",
      "source": [
        "from tabulate import tabulate\n",
        "data=[[\"Oshank Agrawal\",20],[\"Madhavi\",19],[\"Sakshi Tiwari\",20],[\"Prince Kumar Gatte\",21],[\"Harshraj Ray\",19]]\n",
        "headers=[\"Name\",\"Age\"]\n",
        "table=tabulate(data,headers)\n",
        "print(table)"
      ],
      "metadata": {
        "colab": {
          "base_uri": "https://localhost:8080/"
        },
        "id": "CHuZaKOvHLKx",
        "outputId": "e77f0400-d87e-400a-e51d-0daaaaca1590"
      },
      "execution_count": null,
      "outputs": [
        {
          "output_type": "stream",
          "name": "stdout",
          "text": [
            "Name                  Age\n",
            "------------------  -----\n",
            "Oshank Agrawal         20\n",
            "Madhavi                19\n",
            "Sakshi Tiwari          20\n",
            "Prince Kumar Gatte     21\n",
            "Harshraj Ray           19\n"
          ]
        }
      ]
    },
    {
      "cell_type": "code",
      "source": [
        "from tabulate import tabulate as tb\n",
        "data=[[\"Oshank Agrawal\",20],[\"Madhavi\",19],[\"Sakshi Tiwari\",20],[\"Prince Kumar Gatte\",21],[\"Harshraj Ray\",19]]\n",
        "headers=[\"Name\",\"Age\"]\n",
        "data1=[[\"Apple\",100],[\"Mango\",120],[\"Grapes\",80],[\"Banana\",60],[\"Orange\",100]]\n",
        "headers1=[\"Fruit\",\"Price/Kg\"]\n",
        "table=tb(data,headers)\n",
        "table1=tb(data1,headers1)\n",
        "print(table)\n",
        "print()\n",
        "print(table1)"
      ],
      "metadata": {
        "colab": {
          "base_uri": "https://localhost:8080/"
        },
        "id": "i321c7ybFvg8",
        "outputId": "d6709cc7-035d-4a4f-c82b-30ef74e18798"
      },
      "execution_count": null,
      "outputs": [
        {
          "output_type": "stream",
          "name": "stdout",
          "text": [
            "Name                  Age\n",
            "------------------  -----\n",
            "Oshank Agrawal         20\n",
            "Madhavi                19\n",
            "Sakshi Tiwari          20\n",
            "Prince Kumar Gatte     21\n",
            "Harshraj Ray           19\n",
            "\n",
            "Fruit      Price/Kg\n",
            "-------  ----------\n",
            "Apple           100\n",
            "Mango           120\n",
            "Grapes           80\n",
            "Banana           60\n",
            "Orange          100\n"
          ]
        }
      ]
    },
    {
      "cell_type": "markdown",
      "source": [
        "# 3. Printing Lists as Tabular Data using Texttable Module"
      ],
      "metadata": {
        "id": "Ci4Wt7HtH3jQ"
      }
    },
    {
      "cell_type": "markdown",
      "source": [
        "It is a Python Texttable module, which helps us to print tables on the terminal.\n",
        "\n",
        "It is one of the basic Python modules for reading and writing text tables in ASCII code.\n",
        "\n",
        "It can support both dynamic and fixed-size tables.\n",
        "\n",
        "**Data is stored in a tabular format where each cell is differentiated from the other by a table border.**"
      ],
      "metadata": {
        "id": "ucNVqzYlICDy"
      }
    },
    {
      "cell_type": "markdown",
      "source": [
        "**Example**\n",
        "\n",
        "As we can see from the output shown, the items are arranged in the form of tables which makes them look structured and easier to read.\n",
        "\n",
        "Texttable enables a cell-like structure in which each data is stored and is similar to CSV files."
      ],
      "metadata": {
        "id": "JufQGlRyISfK"
      }
    },
    {
      "cell_type": "code",
      "source": [
        "# !pip install texttable\n",
        "from texttable import Texttable\n",
        "t = Texttable(max_width=20)\n",
        "t.add_rows([[\"Name\",\"Age\"],[\"Oshank Agrawal\",20],[\"Madhavi\",19],[\"Sakshi Tiwari\",20],[\"Prince Kumar Gatte\",21],[\"Harshraj Ray\",19]])\n",
        "print(t.draw())"
      ],
      "metadata": {
        "colab": {
          "base_uri": "https://localhost:8080/"
        },
        "id": "w18TwAMGI-c_",
        "outputId": "81e18a61-31e8-46e1-b6af-f5072c6ad22f"
      },
      "execution_count": null,
      "outputs": [
        {
          "output_type": "stream",
          "name": "stdout",
          "text": [
            "+------------+-----+\n",
            "|    Name    | Age |\n",
            "+============+=====+\n",
            "| Oshank     | 20  |\n",
            "| Agrawal    |     |\n",
            "+------------+-----+\n",
            "| Madhavi    | 19  |\n",
            "+------------+-----+\n",
            "| Sakshi     | 20  |\n",
            "| Tiwari     |     |\n",
            "+------------+-----+\n",
            "| Prince     | 21  |\n",
            "| Kumar      |     |\n",
            "| Gatte      |     |\n",
            "+------------+-----+\n",
            "| Harshraj   | 19  |\n",
            "| Ray        |     |\n",
            "+------------+-----+\n"
          ]
        }
      ]
    },
    {
      "cell_type": "markdown",
      "source": [
        "In this module firstly create the object using **obj.Texttable()** method.\n",
        "\n",
        "Than call the **obj.add_row()** function to add the data.\n",
        "\n",
        "For print the table call **obj.draw()** function.\n",
        "\n",
        "In this module when we pass 2-D array it is automatically created the header(or schema) of the table of the by using the first row of the data.\n",
        "\n",
        "The Texttable constructor requires an integer value for max_width to specify the maximum width of the table. Providing a list instead of an integer caused the TypeError. By setting max_width to a valid integer value, the code will correctly initialize the Texttable object and generate the desired tables."
      ],
      "metadata": {
        "id": "Dz_z1M5qKYVH"
      }
    },
    {
      "cell_type": "markdown",
      "source": [
        "**Itteration on above code**"
      ],
      "metadata": {
        "id": "5VVKcJEmL9TG"
      }
    },
    {
      "cell_type": "code",
      "source": [
        "# !pip install texttable\n",
        "from texttable import Texttable as tp\n",
        "obj = tp()\n",
        "obj.add_rows([[\"Name\",\"Age\"]])\n",
        "obj.add_rows([[\"Oshank Agrawal\",20],[\"Madhavi\",19],[\"Sakshi Tiwari\",20],[\"Prince Kumar Gatte\",21],[\"Harshraj Ray\",19]])\n",
        "t = tp()\n",
        "t.add_rows([[\"Fruit\",\"Price/Kg\"],[\"Apple\",100],[\"Mango\",120],[\"Grapes\",80],[\"Banana\",60],[\"Orange\",100]])\n",
        "print(obj.draw())\n",
        "print(t.draw())"
      ],
      "metadata": {
        "colab": {
          "base_uri": "https://localhost:8080/"
        },
        "id": "A9T2ro3IPjSh",
        "outputId": "a396c77c-a41c-4648-929e-25e806d4210f"
      },
      "execution_count": null,
      "outputs": [
        {
          "output_type": "stream",
          "name": "stdout",
          "text": [
            "+--------------------+----+\n",
            "|   Oshank Agrawal   | 20 |\n",
            "+====================+====+\n",
            "| Madhavi            | 19 |\n",
            "+--------------------+----+\n",
            "| Sakshi Tiwari      | 20 |\n",
            "+--------------------+----+\n",
            "| Prince Kumar Gatte | 21 |\n",
            "+--------------------+----+\n",
            "| Harshraj Ray       | 19 |\n",
            "+--------------------+----+\n",
            "+--------+----------+\n",
            "| Fruit  | Price/Kg |\n",
            "+========+==========+\n",
            "| Apple  | 100      |\n",
            "+--------+----------+\n",
            "| Mango  | 120      |\n",
            "+--------+----------+\n",
            "| Grapes | 80       |\n",
            "+--------+----------+\n",
            "| Banana | 60       |\n",
            "+--------+----------+\n",
            "| Orange | 100      |\n",
            "+--------+----------+\n"
          ]
        }
      ]
    },
    {
      "cell_type": "code",
      "source": [
        "# !pip install texttable\n",
        "from texttable import Texttable as tp\n",
        "import pandas as pd\n",
        "data = [[\"Oshank Agrawal\",20],[\"Madhavi\",19],[\"Sakshi Tiwari\",20],[\"Prince Kumar Gatte\",21],[\"Harshraj Ray\",19]]\n",
        "print(data)\n",
        "sr=pd.Series(data)\n",
        "print(sr)\n",
        "ob=tp()\n",
        "for x in sr:\n",
        "  ob.add_rows([x])\n",
        "print(ob.draw)\n",
        "# data.append([\"Name\",\"Age\"])\n",
        "# print(data)"
      ],
      "metadata": {
        "colab": {
          "base_uri": "https://localhost:8080/"
        },
        "id": "iXCRE1AsbQrq",
        "outputId": "a484810c-00c1-48cd-d417-a08c4c3682d4"
      },
      "execution_count": null,
      "outputs": [
        {
          "output_type": "stream",
          "name": "stdout",
          "text": [
            "[['Oshank Agrawal', 20], ['Madhavi', 19], ['Sakshi Tiwari', 20], ['Prince Kumar Gatte', 21], ['Harshraj Ray', 19]]\n",
            "0        [Oshank Agrawal, 20]\n",
            "1               [Madhavi, 19]\n",
            "2         [Sakshi Tiwari, 20]\n",
            "3    [Prince Kumar Gatte, 21]\n",
            "4          [Harshraj Ray, 19]\n",
            "dtype: object\n",
            "<bound method Texttable.draw of <texttable.Texttable object at 0x78f85b98a9e0>>\n"
          ]
        }
      ]
    },
    {
      "cell_type": "code",
      "source": [
        "# !pip install texttable\n",
        "from texttable import Texttable as tp\n",
        "obj = tp()\n",
        "obj.add_rows([[\"Name\",\"Age\"]])\n",
        "obj.add_rows([[\"Oshank Agrawal\",20],[\"Madhavi\",19],[\"Sakshi Tiwari\",20],[\"Prince Kumar Gatte\",21],[\"Harshraj Ray\",19]])\n",
        "obj.add_rows([[\"Abhishek Shristava\",20]])\n",
        "# t =  texttable()\n",
        "# t.add_rows([[\"Fruit\",\"Price/Kg\"],[\"Apple\",100],[\"Mango\",120],[\"Grapes\",80],[\"Banana\",60],[\"Orange\",100]])\n",
        "print(obj.draw())\n",
        "# print(t.draw())"
      ],
      "metadata": {
        "colab": {
          "base_uri": "https://localhost:8080/"
        },
        "id": "EGq7F50pNwWc",
        "outputId": "30d93803-e14e-4d0a-eddd-095235de4ccc"
      },
      "execution_count": null,
      "outputs": [
        {
          "output_type": "stream",
          "name": "stdout",
          "text": [
            "+--------------------+----+\n",
            "| Abhishek Shristava | 20 |\n",
            "+====================+====+\n",
            "| Madhavi            | 19 |\n",
            "+--------------------+----+\n",
            "| Sakshi Tiwari      | 20 |\n",
            "+--------------------+----+\n",
            "| Prince Kumar Gatte | 21 |\n",
            "+--------------------+----+\n",
            "| Harshraj Ray       | 19 |\n",
            "+--------------------+----+\n"
          ]
        }
      ]
    },
    {
      "cell_type": "code",
      "source": [
        "# !pip install texttable\n",
        "from texttable import Texttable as tp\n",
        "obj = tp()\n",
        "obj.add_rows([[\"Name\",\"Age\"]])\n",
        "obj.add_rows([[\"Oshank Agrawal\",20],[\"Madhavi\",19],[\"Sakshi Tiwari\",20],[\"Prince Kumar Gatte\",21],[\"Harshraj Ray\",19]])\n",
        "obj.add_rows([[\"Abhishek Shristava\",20],[\"Tanushree Nayak\",20],[\"Name\",\"Age\"]])\n",
        "t =  Texttable()\n",
        "t.add_rows([[\"Fruit\",\"Price/Kg\"],[\"Apple\",100],[\"Mango\",120],[\"Grapes\",80],[\"Banana\",60],[\"Orange\",100]])\n",
        "print(obj.draw())\n",
        "print(t.draw())"
      ],
      "metadata": {
        "colab": {
          "base_uri": "https://localhost:8080/"
        },
        "id": "eqyFkHSvPzxB",
        "outputId": "d18e6b74-e33e-46a0-e600-7dba68cca38f"
      },
      "execution_count": null,
      "outputs": [
        {
          "output_type": "stream",
          "name": "stdout",
          "text": [
            "+--------------------+-----+\n",
            "| Abhishek Shristava | 20  |\n",
            "+====================+=====+\n",
            "| Madhavi            | 19  |\n",
            "+--------------------+-----+\n",
            "| Sakshi Tiwari      | 20  |\n",
            "+--------------------+-----+\n",
            "| Prince Kumar Gatte | 21  |\n",
            "+--------------------+-----+\n",
            "| Harshraj Ray       | 19  |\n",
            "+--------------------+-----+\n",
            "| Tanushree Nayak    | 20  |\n",
            "+--------------------+-----+\n",
            "| Name               | Age |\n",
            "+--------------------+-----+\n",
            "+--------+----------+\n",
            "| Fruit  | Price/Kg |\n",
            "+========+==========+\n",
            "| Apple  | 100      |\n",
            "+--------+----------+\n",
            "| Mango  | 120      |\n",
            "+--------+----------+\n",
            "| Grapes | 80       |\n",
            "+--------+----------+\n",
            "| Banana | 60       |\n",
            "+--------+----------+\n",
            "| Orange | 100      |\n",
            "+--------+----------+\n"
          ]
        }
      ]
    },
    {
      "cell_type": "code",
      "source": [
        "# !pip install texttable\n",
        "from texttable import Texttable as tp\n",
        "obj = tp(max_width=50)\n",
        "obj.add_rows([[\"Abhishek Shristava\",20],[\"Tanushree Nayak\",20]])\n",
        "obj.add_rows([[\"Oshank Agrawal\",20],[\"Madhavi\",19],[\"Sakshi Tiwari\",20],[\"Prince Kumar Gatte\",21],[\"Harshraj Ray\",19]])\n",
        "t =  Texttable()\n",
        "t.add_rows([[\"Fruit\",\"Price/Kg\"],[\"Apple\",100],[\"Mango\",120],[\"Grapes\",80],[\"Banana\",60],[\"Orange\",100]])\n",
        "print(obj.draw())\n",
        "print(t.draw())"
      ],
      "metadata": {
        "colab": {
          "base_uri": "https://localhost:8080/"
        },
        "id": "tFJE_J2lQRPn",
        "outputId": "da9a92ba-0601-40be-b370-d4949a060280"
      },
      "execution_count": null,
      "outputs": [
        {
          "output_type": "stream",
          "name": "stdout",
          "text": [
            "+--------------------+----+\n",
            "|   Oshank Agrawal   | 20 |\n",
            "+====================+====+\n",
            "| Tanushree Nayak    | 20 |\n",
            "+--------------------+----+\n",
            "| Madhavi            | 19 |\n",
            "+--------------------+----+\n",
            "| Sakshi Tiwari      | 20 |\n",
            "+--------------------+----+\n",
            "| Prince Kumar Gatte | 21 |\n",
            "+--------------------+----+\n",
            "| Harshraj Ray       | 19 |\n",
            "+--------------------+----+\n",
            "+--------+----------+\n",
            "| Fruit  | Price/Kg |\n",
            "+========+==========+\n",
            "| Apple  | 100      |\n",
            "+--------+----------+\n",
            "| Mango  | 120      |\n",
            "+--------+----------+\n",
            "| Grapes | 80       |\n",
            "+--------+----------+\n",
            "| Banana | 60       |\n",
            "+--------+----------+\n",
            "| Orange | 100      |\n",
            "+--------+----------+\n"
          ]
        }
      ]
    },
    {
      "cell_type": "markdown",
      "source": [
        "# 4. Printing Lists as Tabular Data using Prettytable Module"
      ],
      "metadata": {
        "id": "M7MBaNUoUATa"
      }
    },
    {
      "cell_type": "markdown",
      "source": [
        "The Prettytable is another Python module used for the tabular representation of data. They are ASCII tables and quite easy to use. The Prettytable library consists of the PrettyTable class, which is used to create relational tables."
      ],
      "metadata": {
        "id": "GIa2NpMGUCKa"
      }
    },
    {
      "cell_type": "markdown",
      "source": [
        "**Example**\n",
        "\n",
        "Here, the data is presented in an organized manner. Thus, you can print lists as tabular data by using PrettyTable methods, all the modules listed above can help in visualizing raw data in tabular form."
      ],
      "metadata": {
        "id": "6f16mwjGUNT6"
      }
    },
    {
      "cell_type": "code",
      "source": [
        "from prettytable import PrettyTable\n",
        "\n",
        "# These 3 are the columns of the tables\n",
        "t = PrettyTable(['Subject Code', 'Subject', 'Marks'])\n",
        "\n",
        "# To insert rows:\n",
        "t.add_row(['K01', 'Maths', 95])\n",
        "t.add_row(['K04', 'Physics', 89])\n",
        "t.add_row(['K03', 'Chemistry', 92])\n",
        "t.add_row(['K08', 'English', 91])\n",
        "t.add_row(['K29', 'Computer Science', 99])\n",
        "t.add_row(['K06', 'Social Science', 86])\n",
        "\n",
        "print(t)"
      ],
      "metadata": {
        "colab": {
          "base_uri": "https://localhost:8080/"
        },
        "id": "Oa4HhGBwUJG8",
        "outputId": "5d7818a4-d3da-4c7b-f572-8f1e7f23238d"
      },
      "execution_count": null,
      "outputs": [
        {
          "output_type": "stream",
          "name": "stdout",
          "text": [
            "+--------------+------------------+-------+\n",
            "| Subject Code |     Subject      | Marks |\n",
            "+--------------+------------------+-------+\n",
            "|     K01      |      Maths       |   95  |\n",
            "|     K04      |     Physics      |   89  |\n",
            "|     K03      |    Chemistry     |   92  |\n",
            "|     K08      |     English      |   91  |\n",
            "|     K29      | Computer Science |   99  |\n",
            "|     K06      |  Social Science  |   86  |\n",
            "+--------------+------------------+-------+\n"
          ]
        }
      ]
    },
    {
      "cell_type": "markdown",
      "source": [
        "# 5. Printing Lists as Tabular Data using terminaltables Module"
      ],
      "metadata": {
        "id": "GP5wafJoWbFs"
      }
    },
    {
      "cell_type": "markdown",
      "source": [
        "The terminaltables library is a Python library that allows you to create tables with ASCII and Unicode borders. It is a simple and easy-to-use library that provides various formatting options, such as text alignment, padding, and borders."
      ],
      "metadata": {
        "id": "ahcFMqejWoVz"
      }
    },
    {
      "cell_type": "markdown",
      "source": [
        "**To use termitables library**\n",
        "\n",
        "* import the AsciiTable class from terminaltable module\n",
        "\n",
        "* create an instance of it by passing your data as an argument.\n",
        "\n",
        "* The data should be in the form of a list of lists, where each inner list represents a row in the table.\n",
        "\n",
        "* **Once you have created an instance of the AsciiTable class, you can use the table attribute to print the table.**\n",
        "\n",
        "* The table attribute returns the formatted table as a string, which can be printed to the terminal or saved to a file."
      ],
      "metadata": {
        "id": "0MXmPAVcW1wK"
      }
    },
    {
      "cell_type": "markdown",
      "source": [
        "**Example:**"
      ],
      "metadata": {
        "id": "vM0hNLxEX49Q"
      }
    },
    {
      "cell_type": "code",
      "source": [
        "# !pip install terminaltables\n",
        "from terminaltables import AsciiTable\n",
        "\n",
        "data = [[\"Fruit\",\"Price/Kg\"],[\"Apple\",100],[\"Mango\",120],[\"Grapes\",80],[\"Banana\",60],[\"Orange\",100]]\n",
        "\n",
        "objtable = AsciiTable(data) # Here objtable is the instance of AsciiTable\n",
        "print(objtable.table)"
      ],
      "metadata": {
        "colab": {
          "base_uri": "https://localhost:8080/"
        },
        "id": "x-u14skIWanp",
        "outputId": "76e777f9-bb67-4923-ce53-186a6f2d6671"
      },
      "execution_count": null,
      "outputs": [
        {
          "output_type": "stream",
          "name": "stdout",
          "text": [
            "+--------+----------+\n",
            "| Fruit  | Price/Kg |\n",
            "+--------+----------+\n",
            "| Apple  | 100      |\n",
            "| Mango  | 120      |\n",
            "| Grapes | 80       |\n",
            "| Banana | 60       |\n",
            "| Orange | 100      |\n",
            "+--------+----------+\n"
          ]
        }
      ]
    },
    {
      "cell_type": "markdown",
      "source": [
        "The AsciiTable class has several formatting options that you can use to customize the appearance of the table.\n",
        "\n",
        "For example, you can use the title attribute to set a title for the table, the justify attribute to specify the text alignment (left, right, or center), and the inner_row_border attribute to enable or disable the inner row border."
      ],
      "metadata": {
        "id": "x3mvHx1BX1qH"
      }
    },
    {
      "cell_type": "code",
      "source": [
        "from terminaltables import AsciiTable\n",
        "\n",
        "data = [[\"Fruit\",\"Price/Kg\"],[\"Apple\",100],[\"Mango\",120],[\"Grapes\",80],[\"Banana\",60],[\"Orange\",100]]\n",
        "\n",
        "objtable = AsciiTable(data, title='Fruit Prices')\n",
        "objtable.justify = 'center'\n",
        "objtable.inner_row_border = True\n",
        "print(objtable.table)"
      ],
      "metadata": {
        "colab": {
          "base_uri": "https://localhost:8080/"
        },
        "id": "Vj_qS_YqZmxv",
        "outputId": "c258a9e8-c3eb-497d-bb20-7ab3e2330cc7"
      },
      "execution_count": null,
      "outputs": [
        {
          "output_type": "stream",
          "name": "stdout",
          "text": [
            "+Fruit Prices-------+\n",
            "| Fruit  | Price/Kg |\n",
            "+--------+----------+\n",
            "| Apple  | 100      |\n",
            "+--------+----------+\n",
            "| Mango  | 120      |\n",
            "+--------+----------+\n",
            "| Grapes | 80       |\n",
            "+--------+----------+\n",
            "| Banana | 60       |\n",
            "+--------+----------+\n",
            "| Orange | 100      |\n",
            "+--------+----------+\n"
          ]
        }
      ]
    }
  ]
}